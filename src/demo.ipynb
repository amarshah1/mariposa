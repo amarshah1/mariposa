{
 "cells": [
  {
   "cell_type": "code",
   "execution_count": 4,
   "metadata": {},
   "outputs": [
    {
     "name": "stderr",
     "output_type": "stream",
     "text": [
      "  0%|          | 0/70 [00:00<?, ?it/s]"
     ]
    },
    {
     "name": "stderr",
     "output_type": "stream",
     "text": [
      "\u001b[94m[DEBUG] [edit] proof path: dbg/199ba4594c/proofs/reseed.3199813507728074554.proof \u001b[0m\n",
      "\u001b[94m[DEBUG] [edit] trace path: dbg/199ba4594c/traces/reseed.6506362136541185908 \u001b[0m\n"
     ]
    },
    {
     "name": "stdout",
     "output_type": "stream",
     "text": [
      "\u001b[92m[INFO] [init] query path: data/projs/anvil/base.z3/fluent-smt-fluent_controller__fluentbit__proof__helper_invariants__proof.9.smt2 \u001b[0m\n",
      "\u001b[92m[INFO] [init] dbg root: dbg/199ba4594c \u001b[0m\n"
     ]
    },
    {
     "name": "stderr",
     "output_type": "stream",
     "text": [
      "\u001b[94m[DEBUG] [term graph] 64997 nodes, 234175 edges, root @[h!392b5117] \u001b[0m\n",
      "\u001b[94m[DEBUG] 41 nodes are unreachable! \u001b[0m\n",
      "  0%|          | 0/70 [00:13<?, ?it/s]\n"
     ]
    },
    {
     "ename": "KeyboardInterrupt",
     "evalue": "",
     "output_type": "error",
     "traceback": [
      "\u001b[0;31m---------------------------------------------------------------------------\u001b[0m",
      "\u001b[0;31mKeyboardInterrupt\u001b[0m                         Traceback (most recent call last)",
      "Cell \u001b[0;32mIn[4], line 55\u001b[0m\n\u001b[1;32m     53\u001b[0m dbg \u001b[38;5;241m=\u001b[39m Debugger3(query)\n\u001b[1;32m     54\u001b[0m current_dbgs[query] \u001b[38;5;241m=\u001b[39m dbg\n\u001b[0;32m---> 55\u001b[0m \u001b[38;5;28;01massert\u001b[39;00m \u001b[43mdbg\u001b[49m\u001b[38;5;241;43m.\u001b[39;49m\u001b[43meditor\u001b[49m \u001b[38;5;129;01mis\u001b[39;00m \u001b[38;5;129;01mnot\u001b[39;00m \u001b[38;5;28;01mNone\u001b[39;00m\n",
      "File \u001b[0;32m~/mariposa_fixed/mariposa/src/debugger3.py:172\u001b[0m, in \u001b[0;36mDebugger3.editor\u001b[0;34m(self)\u001b[0m\n\u001b[1;32m    170\u001b[0m log_debug(\u001b[38;5;124mf\u001b[39m\u001b[38;5;124m\"\u001b[39m\u001b[38;5;124m[edit] proof path: \u001b[39m\u001b[38;5;132;01m{\u001b[39;00m\u001b[38;5;28mself\u001b[39m\u001b[38;5;241m.\u001b[39mchosen_proof_path\u001b[38;5;132;01m}\u001b[39;00m\u001b[38;5;124m\"\u001b[39m)\n\u001b[1;32m    171\u001b[0m log_debug(\u001b[38;5;124mf\u001b[39m\u001b[38;5;124m\"\u001b[39m\u001b[38;5;124m[edit] trace path: \u001b[39m\u001b[38;5;132;01m{\u001b[39;00m\u001b[38;5;28mself\u001b[39m\u001b[38;5;241m.\u001b[39mchosen_trace_path\u001b[38;5;132;01m}\u001b[39;00m\u001b[38;5;124m\"\u001b[39m)\n\u001b[0;32m--> 172\u001b[0m proof \u001b[38;5;241m=\u001b[39m \u001b[43mProofAnalyzer\u001b[49m\u001b[38;5;241;43m.\u001b[39;49m\u001b[43mfrom_proof_file\u001b[49m\u001b[43m(\u001b[49m\n\u001b[1;32m    173\u001b[0m \u001b[43m    \u001b[49m\u001b[38;5;28;43mself\u001b[39;49m\u001b[38;5;241;43m.\u001b[39;49m\u001b[43mchosen_proof_path\u001b[49m\u001b[43m,\u001b[49m\u001b[43m \u001b[49m\u001b[43mclear\u001b[49m\u001b[38;5;241;43m=\u001b[39;49m\u001b[38;5;28;43mself\u001b[39;49m\u001b[38;5;241;43m.\u001b[39;49m\u001b[43m__clear_proof_cache\u001b[49m\n\u001b[1;32m    174\u001b[0m \u001b[43m\u001b[49m\u001b[43m)\u001b[49m\n\u001b[1;32m    175\u001b[0m trace \u001b[38;5;241m=\u001b[39m \u001b[38;5;28mself\u001b[39m\u001b[38;5;241m.\u001b[39m_builder\u001b[38;5;241m.\u001b[39mget_trace_mutant_info(\u001b[38;5;28mself\u001b[39m\u001b[38;5;241m.\u001b[39mchosen_trace_path)\n\u001b[1;32m    176\u001b[0m \u001b[38;5;28;01massert\u001b[39;00m trace\u001b[38;5;241m.\u001b[39mhas_trace()\n",
      "File \u001b[0;32m~/mariposa_fixed/mariposa/src/debugger/proof_analyzer.py:312\u001b[0m, in \u001b[0;36mProofAnalyzer.from_proof_file\u001b[0;34m(proof_path, clear)\u001b[0m\n\u001b[1;32m    310\u001b[0m m\u001b[38;5;241m.\u001b[39mupdate(\u001b[38;5;28mstr\u001b[39m(proof_path)\u001b[38;5;241m.\u001b[39mencode())\n\u001b[1;32m    311\u001b[0m pickle_name \u001b[38;5;241m=\u001b[39m m\u001b[38;5;241m.\u001b[39mhexdigest() \u001b[38;5;241m+\u001b[39m \u001b[38;5;124m\"\u001b[39m\u001b[38;5;124m.pickle\u001b[39m\u001b[38;5;124m\"\u001b[39m\n\u001b[0;32m--> 312\u001b[0m \u001b[38;5;28;01mreturn\u001b[39;00m \u001b[43mload_cache_or\u001b[49m\u001b[43m(\u001b[49m\u001b[43mpickle_name\u001b[49m\u001b[43m,\u001b[49m\u001b[43m \u001b[49m\u001b[38;5;28;43;01mlambda\u001b[39;49;00m\u001b[43m:\u001b[49m\u001b[43m \u001b[49m\u001b[43mProofAnalyzer\u001b[49m\u001b[43m(\u001b[49m\u001b[43mproof_path\u001b[49m\u001b[43m)\u001b[49m\u001b[43m,\u001b[49m\u001b[43m \u001b[49m\u001b[43mclear\u001b[49m\u001b[43m)\u001b[49m\n",
      "File \u001b[0;32m~/mariposa_fixed/mariposa/src/utils/cache_utils.py:28\u001b[0m, in \u001b[0;36mload_cache_or\u001b[0;34m(name, func, clear)\u001b[0m\n\u001b[1;32m     26\u001b[0m obj \u001b[38;5;241m=\u001b[39m load_cache(name)\n\u001b[1;32m     27\u001b[0m \u001b[38;5;28;01mif\u001b[39;00m obj \u001b[38;5;129;01mis\u001b[39;00m \u001b[38;5;28;01mNone\u001b[39;00m \u001b[38;5;129;01mor\u001b[39;00m clear:\n\u001b[0;32m---> 28\u001b[0m     obj \u001b[38;5;241m=\u001b[39m \u001b[43mfunc\u001b[49m\u001b[43m(\u001b[49m\u001b[43m)\u001b[49m\n\u001b[1;32m     29\u001b[0m     save_cache(name, obj)\n\u001b[1;32m     30\u001b[0m \u001b[38;5;28;01mreturn\u001b[39;00m obj\n",
      "File \u001b[0;32m~/mariposa_fixed/mariposa/src/debugger/proof_analyzer.py:312\u001b[0m, in \u001b[0;36mProofAnalyzer.from_proof_file.<locals>.<lambda>\u001b[0;34m()\u001b[0m\n\u001b[1;32m    310\u001b[0m m\u001b[38;5;241m.\u001b[39mupdate(\u001b[38;5;28mstr\u001b[39m(proof_path)\u001b[38;5;241m.\u001b[39mencode())\n\u001b[1;32m    311\u001b[0m pickle_name \u001b[38;5;241m=\u001b[39m m\u001b[38;5;241m.\u001b[39mhexdigest() \u001b[38;5;241m+\u001b[39m \u001b[38;5;124m\"\u001b[39m\u001b[38;5;124m.pickle\u001b[39m\u001b[38;5;124m\"\u001b[39m\n\u001b[0;32m--> 312\u001b[0m \u001b[38;5;28;01mreturn\u001b[39;00m load_cache_or(pickle_name, \u001b[38;5;28;01mlambda\u001b[39;00m: \u001b[43mProofAnalyzer\u001b[49m\u001b[43m(\u001b[49m\u001b[43mproof_path\u001b[49m\u001b[43m)\u001b[49m, clear)\n",
      "File \u001b[0;32m~/mariposa_fixed/mariposa/src/debugger/proof_analyzer.py:78\u001b[0m, in \u001b[0;36mProofAnalyzer.__init__\u001b[0;34m(self, file_path)\u001b[0m\n\u001b[1;32m     75\u001b[0m \u001b[38;5;28mself\u001b[39m\u001b[38;5;241m.\u001b[39m__insts_under_qname: Dict[\u001b[38;5;28mstr\u001b[39m, QuantInstInfo] \u001b[38;5;241m=\u001b[39m \u001b[38;5;28mdict\u001b[39m()\n\u001b[1;32m     77\u001b[0m \u001b[38;5;28mself\u001b[39m\u001b[38;5;241m.\u001b[39mproof_graph \u001b[38;5;241m=\u001b[39m nx\u001b[38;5;241m.\u001b[39mDiGraph()\n\u001b[0;32m---> 78\u001b[0m \u001b[38;5;28;43mself\u001b[39;49m\u001b[38;5;241;43m.\u001b[39;49m\u001b[43m__analyze_proof_nodes\u001b[49m\u001b[43m(\u001b[49m\u001b[43m)\u001b[49m\n",
      "File \u001b[0;32m~/mariposa_fixed/mariposa/src/debugger/proof_analyzer.py:88\u001b[0m, in \u001b[0;36mProofAnalyzer.__analyze_proof_nodes\u001b[0;34m(self)\u001b[0m\n\u001b[1;32m     86\u001b[0m         \u001b[38;5;28;01mcontinue\u001b[39;00m\n\u001b[1;32m     87\u001b[0m     \u001b[38;5;28mself\u001b[39m\u001b[38;5;241m.\u001b[39mproof_graph\u001b[38;5;241m.\u001b[39madd_node(ref)\n\u001b[0;32m---> 88\u001b[0m     \u001b[38;5;28;43mself\u001b[39;49m\u001b[38;5;241;43m.\u001b[39;49m\u001b[43m__analyze_proof_node\u001b[49m\u001b[43m(\u001b[49m\u001b[43mref\u001b[49m\u001b[43m,\u001b[49m\u001b[43m \u001b[49m\u001b[43mnode\u001b[49m\u001b[43m)\u001b[49m\n\u001b[1;32m     90\u001b[0m \u001b[38;5;66;03m# root will likely be unit-resolution...\u001b[39;00m\n\u001b[1;32m     91\u001b[0m \u001b[38;5;28mself\u001b[39m\u001b[38;5;241m.\u001b[39mproof_graph\u001b[38;5;241m.\u001b[39madd_node(\u001b[38;5;28mself\u001b[39m\u001b[38;5;241m.\u001b[39mroot_ref)\n",
      "File \u001b[0;32m~/mariposa_fixed/mariposa/src/debugger/proof_analyzer.py:115\u001b[0m, in \u001b[0;36mProofAnalyzer.__analyze_proof_node\u001b[0;34m(self, ref, node)\u001b[0m\n\u001b[1;32m    111\u001b[0m \u001b[38;5;28;01massert\u001b[39;00m name \u001b[38;5;129;01min\u001b[39;00m PROOF_GRAPH_RULES\n\u001b[1;32m    113\u001b[0m conclusion \u001b[38;5;241m=\u001b[39m node\u001b[38;5;241m.\u001b[39mchildren[\u001b[38;5;241m-\u001b[39m\u001b[38;5;241m1\u001b[39m]\n\u001b[0;32m--> 115\u001b[0m \u001b[38;5;28;01mif\u001b[39;00m \u001b[38;5;129;01mnot\u001b[39;00m \u001b[38;5;28;43mself\u001b[39;49m\u001b[38;5;241;43m.\u001b[39;49m\u001b[43mis_proof_free\u001b[49m\u001b[43m(\u001b[49m\u001b[43mconclusion\u001b[49m\u001b[43m)\u001b[49m:\n\u001b[1;32m    116\u001b[0m     log_warn(\u001b[38;5;124mf\u001b[39m\u001b[38;5;124m\"\u001b[39m\u001b[38;5;124mproof node conclusion is not grounded: \u001b[39m\u001b[38;5;132;01m{\u001b[39;00mref\u001b[38;5;132;01m}\u001b[39;00m\u001b[38;5;124m\"\u001b[39m)\n\u001b[1;32m    117\u001b[0m     \u001b[38;5;28;01mreturn\u001b[39;00m\n",
      "File \u001b[0;32m~/mariposa_fixed/mariposa/src/debugger/symbol_table.py:274\u001b[0m, in \u001b[0;36mTermTable.is_proof_free\u001b[0;34m(self, ron)\u001b[0m\n\u001b[1;32m    272\u001b[0m     \u001b[38;5;28;01mif\u001b[39;00m \u001b[38;5;28misinstance\u001b[39m(node, ProofNode):\n\u001b[1;32m    273\u001b[0m         \u001b[38;5;28;01mreturn\u001b[39;00m \u001b[38;5;28;01mFalse\u001b[39;00m\n\u001b[0;32m--> 274\u001b[0m     \u001b[38;5;28;01mif\u001b[39;00m \u001b[38;5;28;43misinstance\u001b[39;49m\u001b[43m(\u001b[49m\u001b[43mnode\u001b[49m\u001b[43m,\u001b[49m\u001b[43m \u001b[49m\u001b[43mAppNode\u001b[49m\u001b[43m)\u001b[49m:\n\u001b[1;32m    275\u001b[0m         refs\u001b[38;5;241m.\u001b[39mextend(node\u001b[38;5;241m.\u001b[39mchildren)\n\u001b[1;32m    276\u001b[0m \u001b[38;5;28;01mreturn\u001b[39;00m \u001b[38;5;28;01mTrue\u001b[39;00m\n",
      "\u001b[0;31mKeyboardInterrupt\u001b[0m: "
     ]
    }
   ],
   "source": [
    "import os, sys\n",
    "from tabulate import tabulate\n",
    "from tqdm import tqdm\n",
    "import pandas as pd\n",
    "from z3 import set_param\n",
    "\n",
    "from analysis.singleton_analyzer import SingletonAnalyzer\n",
    "from base.exper import Experiment\n",
    "from base.exper_analyzer import ExperAnalyzer\n",
    "from debugger3 import Debugger3\n",
    "from utils.system_utils import log_info\n",
    "from benchmark_consts import *\n",
    "from debugger.informed_editor import InformedEditor\n",
    "\n",
    "os.chdir(\"/home/amarshah/mariposa_fixed/mariposa/\")\n",
    "from base.factory import FACT\n",
    "\n",
    "SOLVER = FACT.get_solver(\"z3_4_13_0\")\n",
    "VERI_CFG = FACT.get_config(\"verify\")\n",
    "FILTER_CFG = FACT.get_config(\"verus_quick\")\n",
    "QA = FACT.get_analyzer(\"10sec\")\n",
    "\n",
    "\n",
    "def get_debug_status(dbg: Debugger3):\n",
    "    try:\n",
    "        p_singleton = FACT.get_project_by_path(dbg.singleton_dir)\n",
    "    except:\n",
    "        return \"singleton not created\"\n",
    "\n",
    "    e_singleton = FACT.try_get_exper(p_singleton, VERI_CFG, SOLVER)\n",
    "\n",
    "    if e_singleton is None:\n",
    "        return \"singleton not ran\"\n",
    "\n",
    "    try:\n",
    "        p_filter = FACT.get_project_by_path(dbg.singleton_filtered_dir)\n",
    "    except:\n",
    "        return \"singleton not filtered\"\n",
    "\n",
    "    e_filter = FACT.try_get_exper(p_filter, FILTER_CFG, SOLVER)\n",
    "\n",
    "    if e_filter is None:\n",
    "        return \"filtered but not ran\"\n",
    "\n",
    "    return e_filter\n",
    "\n",
    "current_dbgs = dict()\n",
    "\n",
    "for query in tqdm(UNSTABLE_10_SECS):\n",
    "    if query in SKIP_FOR_NOW:\n",
    "        continue\n",
    "\n",
    "    dbg = Debugger3(query)\n",
    "    current_dbgs[query] = dbg\n",
    "    assert dbg.editor is not None\n"
   ]
  },
  {
   "cell_type": "code",
   "execution_count": null,
   "metadata": {},
   "outputs": [],
   "source": [
    "table = []\n",
    "\n",
    "for query, dbg in current_dbgs.items():\n",
    "    p_singleton = FACT.get_project_by_path(dbg.singleton_dir)\n",
    "    e_singleton = FACT.try_get_exper(p_singleton, VERI_CFG, SOLVER)\n",
    "    ba = SingletonAnalyzer(e_singleton, QA)\n",
    "    editor: InformedEditor = dbg.editor\n",
    "\n",
    "    root_quants = editor.get_singleton_actions(skip_infeasible=False)\n",
    "    root_quant_count = len(root_quants)\n",
    "    tested_quant_count = len(dbg.get_edited_qnames(ba.qids))\n",
    "    assert tested_quant_count <= root_quant_count\n",
    "    tested_edit_count = len(ba.qids)\n",
    "\n",
    "    p_filter = FACT.get_project_by_path(dbg.singleton_filtered_dir)\n",
    "    e_filter = FACT.try_get_exper(p_filter, FILTER_CFG, SOLVER)\n",
    "    fa = ExperAnalyzer(e_filter, QA)\n",
    "    stabilized_eids = []\n",
    "    \n",
    "    for eid in fa.get_stable_edit_ids():\n",
    "        ei = dbg.look_up_edit_with_id(eid)\n",
    "        qname, action = ei.get_singleton_edit()\n",
    "        if qname == \"prelude_fuel_defaults\":\n",
    "            continue\n",
    "        stabilized_eids.append(eid)\n",
    "\n",
    "    table.append(\n",
    "        [\n",
    "            query,\n",
    "            root_quant_count,\n",
    "            tested_quant_count,\n",
    "            tested_edit_count,\n",
    "            len(stabilized_eids),\n",
    "            len(ba.errored_edits),\n",
    "            len(ba.passed_edits),\n",
    "            len(ba.timeout_edits),\n",
    "            len(ba.unknown_edits),\n",
    "        ]\n",
    "    )\n",
    "\n",
    "df = pd.DataFrame(\n",
    "    table,\n",
    "    columns=[\n",
    "        \"query\",\n",
    "        \"root_quants\",\n",
    "        \"tested_quants\",\n",
    "        \"tested_edits\",\n",
    "        \"edits_stabilized\",\n",
    "        \"edits_errored\",\n",
    "        \"edits_passed\",\n",
    "        \"edits_timeout\",\n",
    "        \"edits_unknown\",\n",
    "    ],\n",
    ")"
   ]
  },
  {
   "cell_type": "code",
   "execution_count": null,
   "metadata": {},
   "outputs": [],
   "source": [
    "df[\"quants_test_rate\"] = df[\"tested_quants\"] / df[\"root_quants\"] * 100\n",
    "df.drop(\"tested_quants\", axis=1, inplace=True)\n",
    "df[\"error_rate\"] = df[\"edits_errored\"] / df[\"tested_edits\"] * 100\n",
    "df.drop(\"edits_errored\", axis=1, inplace=True)\n",
    "df[\"pass_rate\"] = df[\"edits_passed\"] / df[\"tested_edits\"] * 100\n",
    "df.drop(\"edits_passed\", axis=1, inplace=True)\n",
    "df[\"timeout_rate\"] = df[\"edits_timeout\"] / df[\"tested_edits\"]  * 100\n",
    "df.drop(\"edits_timeout\", axis=1, inplace=True)\n",
    "df[\"unknown_rate\"] = df[\"edits_unknown\"] / df[\"tested_edits\"] * 100\n",
    "df.drop(\"edits_unknown\", axis=1, inplace=True)\n",
    "print(tabulate(df, headers=\"keys\", tablefmt=\"psql\"))\n",
    "# df.round(2).to_csv(\"debugger3_status.csv\", index=False)"
   ]
  },
  {
   "cell_type": "code",
   "execution_count": null,
   "metadata": {},
   "outputs": [],
   "source": []
  }
 ],
 "metadata": {
  "kernelspec": {
   "display_name": "Python 3",
   "language": "python",
   "name": "python3"
  },
  "language_info": {
   "codemirror_mode": {
    "name": "ipython",
    "version": 3
   },
   "file_extension": ".py",
   "mimetype": "text/x-python",
   "name": "python",
   "nbconvert_exporter": "python",
   "pygments_lexer": "ipython3",
   "version": "3.8.10"
  }
 },
 "nbformat": 4,
 "nbformat_minor": 2
}
