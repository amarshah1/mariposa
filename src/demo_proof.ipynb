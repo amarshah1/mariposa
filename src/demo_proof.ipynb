{
 "cells": [
  {
   "cell_type": "code",
   "execution_count": 4,
   "metadata": {},
   "outputs": [
    {
     "name": "stderr",
     "output_type": "stream",
     "text": [
      "\u001b[94m[DEBUG] [term graph] 64997 nodes, 234175 edges, root @[h!392b5117] \u001b[0m\n",
      "\u001b[94m[DEBUG] 41 nodes are unreachable! \u001b[0m\n"
     ]
    },
    {
     "ename": "KeyboardInterrupt",
     "evalue": "",
     "output_type": "error",
     "traceback": [
      "\u001b[0;31m---------------------------------------------------------------------------\u001b[0m",
      "\u001b[0;31mKeyboardInterrupt\u001b[0m                         Traceback (most recent call last)",
      "Cell \u001b[0;32mIn[4], line 24\u001b[0m\n\u001b[1;32m     20\u001b[0m \u001b[38;5;28;01mfrom\u001b[39;00m\u001b[38;5;250m \u001b[39m\u001b[38;5;21;01mdebugger\u001b[39;00m\u001b[38;5;21;01m.\u001b[39;00m\u001b[38;5;21;01mproof_analyzer\u001b[39;00m\u001b[38;5;250m \u001b[39m\u001b[38;5;28;01mimport\u001b[39;00m ProofAnalyzer\n\u001b[1;32m     22\u001b[0m os\u001b[38;5;241m.\u001b[39mchdir(\u001b[38;5;124m\"\u001b[39m\u001b[38;5;124m/home/amarshah/mariposa_fixed/mariposa/\u001b[39m\u001b[38;5;124m\"\u001b[39m)\n\u001b[0;32m---> 24\u001b[0m p \u001b[38;5;241m=\u001b[39m \u001b[43mProofAnalyzer\u001b[49m\u001b[43m(\u001b[49m\u001b[38;5;124;43m\"\u001b[39;49m\u001b[38;5;124;43mdbg/199ba4594c/proofs/reseed.3199813507728074554.proof\u001b[39;49m\u001b[38;5;124;43m\"\u001b[39;49m\u001b[43m)\u001b[49m\n",
      "File \u001b[0;32m~/mariposa_fixed/mariposa/src/debugger/proof_analyzer.py:78\u001b[0m, in \u001b[0;36mProofAnalyzer.__init__\u001b[0;34m(self, file_path)\u001b[0m\n\u001b[1;32m     75\u001b[0m \u001b[38;5;28mself\u001b[39m\u001b[38;5;241m.\u001b[39m__insts_under_qname: Dict[\u001b[38;5;28mstr\u001b[39m, QuantInstInfo] \u001b[38;5;241m=\u001b[39m \u001b[38;5;28mdict\u001b[39m()\n\u001b[1;32m     77\u001b[0m \u001b[38;5;28mself\u001b[39m\u001b[38;5;241m.\u001b[39mproof_graph \u001b[38;5;241m=\u001b[39m nx\u001b[38;5;241m.\u001b[39mDiGraph()\n\u001b[0;32m---> 78\u001b[0m \u001b[38;5;28;43mself\u001b[39;49m\u001b[38;5;241;43m.\u001b[39;49m\u001b[43m__analyze_proof_nodes\u001b[49m\u001b[43m(\u001b[49m\u001b[43m)\u001b[49m\n",
      "File \u001b[0;32m~/mariposa_fixed/mariposa/src/debugger/proof_analyzer.py:88\u001b[0m, in \u001b[0;36mProofAnalyzer.__analyze_proof_nodes\u001b[0;34m(self)\u001b[0m\n\u001b[1;32m     86\u001b[0m         \u001b[38;5;28;01mcontinue\u001b[39;00m\n\u001b[1;32m     87\u001b[0m     \u001b[38;5;28mself\u001b[39m\u001b[38;5;241m.\u001b[39mproof_graph\u001b[38;5;241m.\u001b[39madd_node(ref)\n\u001b[0;32m---> 88\u001b[0m     \u001b[38;5;28;43mself\u001b[39;49m\u001b[38;5;241;43m.\u001b[39;49m\u001b[43m__analyze_proof_node\u001b[49m\u001b[43m(\u001b[49m\u001b[43mref\u001b[49m\u001b[43m,\u001b[49m\u001b[43m \u001b[49m\u001b[43mnode\u001b[49m\u001b[43m)\u001b[49m\n\u001b[1;32m     90\u001b[0m \u001b[38;5;66;03m# root will likely be unit-resolution...\u001b[39;00m\n\u001b[1;32m     91\u001b[0m \u001b[38;5;28mself\u001b[39m\u001b[38;5;241m.\u001b[39mproof_graph\u001b[38;5;241m.\u001b[39madd_node(\u001b[38;5;28mself\u001b[39m\u001b[38;5;241m.\u001b[39mroot_ref)\n",
      "File \u001b[0;32m~/mariposa_fixed/mariposa/src/debugger/proof_analyzer.py:115\u001b[0m, in \u001b[0;36mProofAnalyzer.__analyze_proof_node\u001b[0;34m(self, ref, node)\u001b[0m\n\u001b[1;32m    111\u001b[0m \u001b[38;5;28;01massert\u001b[39;00m name \u001b[38;5;129;01min\u001b[39;00m PROOF_GRAPH_RULES\n\u001b[1;32m    113\u001b[0m conclusion \u001b[38;5;241m=\u001b[39m node\u001b[38;5;241m.\u001b[39mchildren[\u001b[38;5;241m-\u001b[39m\u001b[38;5;241m1\u001b[39m]\n\u001b[0;32m--> 115\u001b[0m \u001b[38;5;28;01mif\u001b[39;00m \u001b[38;5;129;01mnot\u001b[39;00m \u001b[38;5;28;43mself\u001b[39;49m\u001b[38;5;241;43m.\u001b[39;49m\u001b[43mis_proof_free\u001b[49m\u001b[43m(\u001b[49m\u001b[43mconclusion\u001b[49m\u001b[43m)\u001b[49m:\n\u001b[1;32m    116\u001b[0m     log_warn(\u001b[38;5;124mf\u001b[39m\u001b[38;5;124m\"\u001b[39m\u001b[38;5;124mproof node conclusion is not grounded: \u001b[39m\u001b[38;5;132;01m{\u001b[39;00mref\u001b[38;5;132;01m}\u001b[39;00m\u001b[38;5;124m\"\u001b[39m)\n\u001b[1;32m    117\u001b[0m     \u001b[38;5;28;01mreturn\u001b[39;00m\n",
      "File \u001b[0;32m~/mariposa_fixed/mariposa/src/debugger/symbol_table.py:272\u001b[0m, in \u001b[0;36mTermTable.is_proof_free\u001b[0;34m(self, ron)\u001b[0m\n\u001b[1;32m    270\u001b[0m \u001b[38;5;28;01mwhile\u001b[39;00m refs:\n\u001b[1;32m    271\u001b[0m     node \u001b[38;5;241m=\u001b[39m \u001b[38;5;28mself\u001b[39m\u001b[38;5;241m.\u001b[39mlookup_node(refs\u001b[38;5;241m.\u001b[39mpop())\n\u001b[0;32m--> 272\u001b[0m     \u001b[38;5;28;01mif\u001b[39;00m \u001b[38;5;28;43misinstance\u001b[39;49m\u001b[43m(\u001b[49m\u001b[43mnode\u001b[49m\u001b[43m,\u001b[49m\u001b[43m \u001b[49m\u001b[43mProofNode\u001b[49m\u001b[43m)\u001b[49m:\n\u001b[1;32m    273\u001b[0m         \u001b[38;5;28;01mreturn\u001b[39;00m \u001b[38;5;28;01mFalse\u001b[39;00m\n\u001b[1;32m    274\u001b[0m     \u001b[38;5;28;01mif\u001b[39;00m \u001b[38;5;28misinstance\u001b[39m(node, AppNode):\n",
      "\u001b[0;31mKeyboardInterrupt\u001b[0m: "
     ]
    }
   ],
   "source": [
    "import json\n",
    "import os, sys\n",
    "from tabulate import tabulate\n",
    "from tqdm import tqdm\n",
    "import pandas as pd\n",
    "from z3 import set_param\n",
    "\n",
    "from base.exper_analyzer import ExperAnalyzer\n",
    "from debugger.edit_info import EditAction\n",
    "from debugger.informed_editor import InformedEditor\n",
    "from debugger.mutant_info import MutantInfo\n",
    "\n",
    "from debugger3 import Debugger3\n",
    "from utils.system_utils import log_info\n",
    "from benchmark_consts import *\n",
    "from debugger.file_builder import FileBuilder\n",
    "from utils.analysis_utils import fmt_percent\n",
    "from analysis.singleton_analyzer import SingletonAnalyzer\n",
    "\n",
    "from debugger.proof_analyzer import ProofAnalyzer\n",
    "\n",
    "os.chdir(\"/home/amarshah/mariposa_fixed/mariposa/\")\n",
    "\n",
    "p = ProofAnalyzer(\"dbg/199ba4594c/proofs/reseed.3199813507728074554.proof\")\n",
    "\n",
    "\n"
   ]
  },
  {
   "cell_type": "code",
   "execution_count": null,
   "metadata": {},
   "outputs": [],
   "source": [
    "interesting_qid = \"internal_fluent_controller__kubernetes_api_objects__error__APIError_unbox_axiom_definition\"\n",
    "\n",
    "# graph = proof_graph(p)\n",
    "\n",
    "p.debug()"
   ]
  },
  {
   "cell_type": "code",
   "execution_count": null,
   "metadata": {},
   "outputs": [],
   "source": [
    "p.pprint_node(p.lookup_node(\"f440d4ea\"))\n"
   ]
  },
  {
   "cell_type": "code",
   "execution_count": null,
   "metadata": {},
   "outputs": [],
   "source": [
    "qref = list(p.quant_names[\"mariposa_qid_63\"])[0]\n",
    "p.pprint_node(p.lookup_node(qref))"
   ]
  },
  {
   "cell_type": "code",
   "execution_count": null,
   "metadata": {},
   "outputs": [],
   "source": [
    "info = p.get_inst_info_under_qname(\"mariposa_qid_63\")\n",
    "\n",
    "insts = info.get_all_insts()\n",
    "print(len(insts))\n",
    "\n",
    "# p.pprint_node(insts[0], depth = 100)\n",
    "\n",
    "\n",
    "for key in p.neighbors(insts[0]):\n",
    "    p.pprint_node(key, depth = 3)\n",
    "    "
   ]
  },
  {
   "cell_type": "code",
   "execution_count": null,
   "metadata": {},
   "outputs": [],
   "source": []
  }
 ],
 "metadata": {
  "kernelspec": {
   "display_name": "Python 3",
   "language": "python",
   "name": "python3"
  },
  "language_info": {
   "codemirror_mode": {
    "name": "ipython",
    "version": 3
   },
   "file_extension": ".py",
   "mimetype": "text/x-python",
   "name": "python",
   "nbconvert_exporter": "python",
   "pygments_lexer": "ipython3",
   "version": "3.8.10"
  }
 },
 "nbformat": 4,
 "nbformat_minor": 2
}
